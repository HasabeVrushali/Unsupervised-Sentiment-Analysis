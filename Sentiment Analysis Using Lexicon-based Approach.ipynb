{
 "cells": [
  {
   "cell_type": "markdown",
   "id": "2a83a7ae-a71d-41a0-a748-831640413a3c",
   "metadata": {},
   "source": [
    "**VADER** (Valence Aware Dictionary and sEntiment Reasoner) Sentiment Analysis is a text sentiment analysis tool designed to determine the sentiment expressed in short pieces of text. It uses a lexicon-based approach combined with rules to analyze the intensity of sentiments. VADER is particularly effective in social media contexts because it can handle both positive and negative sentiment, as well as the intensity of the sentiment, with considerations for punctuation, capitalization, degree modifiers, and negation. It provides scores for positive, negative, neutral, and compound sentiment, making it a useful tool for quickly assessing the sentiment of text data.\r\n",
    "\r\n",
    "\r\n",
    "\r\n",
    "\r\n",
    "\r\n",
    "\r\n",
    "\r\n"
   ]
  },
  {
   "cell_type": "markdown",
   "id": "20bbcd73-e546-4b09-b651-e9c986db9cb2",
   "metadata": {},
   "source": [
    "**About Dataset :** This Genshin Impact dataset, comprising only review and rating columns which is suitable for studying player feedback."
   ]
  },
  {
   "cell_type": "code",
   "execution_count": 1,
   "id": "29dae565-ef77-4a16-943d-6648aefe3313",
   "metadata": {},
   "outputs": [],
   "source": [
    "#importing essential packages\n",
    "import pandas as pd\n",
    "import numpy as np\n",
    "from vaderSentiment.vaderSentiment import SentimentIntensityAnalyzer #vaderSentiment==3.3.2\n",
    "import matplotlib.pyplot as plt"
   ]
  },
  {
   "cell_type": "code",
   "execution_count": 2,
   "id": "6f4597f1-7b6a-4eb7-bc05-01575bcc6f1d",
   "metadata": {
    "scrolled": true
   },
   "outputs": [
    {
     "data": {
      "text/html": [
       "<div>\n",
       "<style scoped>\n",
       "    .dataframe tbody tr th:only-of-type {\n",
       "        vertical-align: middle;\n",
       "    }\n",
       "\n",
       "    .dataframe tbody tr th {\n",
       "        vertical-align: top;\n",
       "    }\n",
       "\n",
       "    .dataframe thead th {\n",
       "        text-align: right;\n",
       "    }\n",
       "</style>\n",
       "<table border=\"1\" class=\"dataframe\">\n",
       "  <thead>\n",
       "    <tr style=\"text-align: right;\">\n",
       "      <th></th>\n",
       "      <th>review</th>\n",
       "      <th>rating</th>\n",
       "    </tr>\n",
       "  </thead>\n",
       "  <tbody>\n",
       "    <tr>\n",
       "      <th>0</th>\n",
       "      <td>Absolute Masterpiece i hate the people who gav...</td>\n",
       "      <td>5</td>\n",
       "    </tr>\n",
       "    <tr>\n",
       "      <th>1</th>\n",
       "      <td>amazing but the fandom isn't amazing</td>\n",
       "      <td>5</td>\n",
       "    </tr>\n",
       "    <tr>\n",
       "      <th>2</th>\n",
       "      <td>Very nice</td>\n",
       "      <td>5</td>\n",
       "    </tr>\n",
       "    <tr>\n",
       "      <th>3</th>\n",
       "      <td>Give me gambling money (primo gems)</td>\n",
       "      <td>4</td>\n",
       "    </tr>\n",
       "    <tr>\n",
       "      <th>4</th>\n",
       "      <td>This is one my first Open World RPG games, and...</td>\n",
       "      <td>4</td>\n",
       "    </tr>\n",
       "  </tbody>\n",
       "</table>\n",
       "</div>"
      ],
      "text/plain": [
       "                                              review  rating\n",
       "0  Absolute Masterpiece i hate the people who gav...       5\n",
       "1               amazing but the fandom isn't amazing       5\n",
       "2                                          Very nice       5\n",
       "3                Give me gambling money (primo gems)       4\n",
       "4  This is one my first Open World RPG games, and...       4"
      ]
     },
     "execution_count": 2,
     "metadata": {},
     "output_type": "execute_result"
    }
   ],
   "source": [
    "#Importing csv file\n",
    "Data=pd.read_csv('Google Play Reviews.csv')\n",
    "Data.head()"
   ]
  },
  {
   "cell_type": "code",
   "execution_count": 3,
   "id": "5040713b-dd47-45d2-b396-d2026db8195e",
   "metadata": {},
   "outputs": [],
   "source": [
    "#This user defined function will take text as input and gives sentiment as output using vader\n",
    "def Sentiment_score(text):\n",
    "    analyzer = SentimentIntensityAnalyzer()\n",
    "    sentiment_score=analyzer.polarity_scores(text)\n",
    "    if sentiment_score['neg']>sentiment_score['neu'] and sentiment_score['neg']> sentiment_score['pos']:\n",
    "        sentiment='Negitive'\n",
    "    elif sentiment_score['pos']>sentiment_score['neu'] and sentiment_score['neg']< sentiment_score['pos']:\n",
    "        sentiment='Positive'\n",
    "    else:\n",
    "        sentiment='Nutral'\n",
    "    return sentiment"
   ]
  },
  {
   "cell_type": "code",
   "execution_count": 4,
   "id": "cb753112-ce87-4474-818d-ffbe7eaf09a0",
   "metadata": {},
   "outputs": [
    {
     "data": {
      "text/html": [
       "<div>\n",
       "<style scoped>\n",
       "    .dataframe tbody tr th:only-of-type {\n",
       "        vertical-align: middle;\n",
       "    }\n",
       "\n",
       "    .dataframe tbody tr th {\n",
       "        vertical-align: top;\n",
       "    }\n",
       "\n",
       "    .dataframe thead th {\n",
       "        text-align: right;\n",
       "    }\n",
       "</style>\n",
       "<table border=\"1\" class=\"dataframe\">\n",
       "  <thead>\n",
       "    <tr style=\"text-align: right;\">\n",
       "      <th></th>\n",
       "      <th>review</th>\n",
       "      <th>rating</th>\n",
       "      <th>Sentiment</th>\n",
       "    </tr>\n",
       "  </thead>\n",
       "  <tbody>\n",
       "    <tr>\n",
       "      <th>0</th>\n",
       "      <td>Absolute Masterpiece i hate the people who gav...</td>\n",
       "      <td>5</td>\n",
       "      <td>Nutral</td>\n",
       "    </tr>\n",
       "    <tr>\n",
       "      <th>1</th>\n",
       "      <td>amazing but the fandom isn't amazing</td>\n",
       "      <td>5</td>\n",
       "      <td>Negitive</td>\n",
       "    </tr>\n",
       "    <tr>\n",
       "      <th>2</th>\n",
       "      <td>Very nice</td>\n",
       "      <td>5</td>\n",
       "      <td>Positive</td>\n",
       "    </tr>\n",
       "    <tr>\n",
       "      <th>3</th>\n",
       "      <td>Give me gambling money (primo gems)</td>\n",
       "      <td>4</td>\n",
       "      <td>Nutral</td>\n",
       "    </tr>\n",
       "    <tr>\n",
       "      <th>4</th>\n",
       "      <td>This is one my first Open World RPG games, and...</td>\n",
       "      <td>4</td>\n",
       "      <td>Nutral</td>\n",
       "    </tr>\n",
       "  </tbody>\n",
       "</table>\n",
       "</div>"
      ],
      "text/plain": [
       "                                              review  rating Sentiment\n",
       "0  Absolute Masterpiece i hate the people who gav...       5    Nutral\n",
       "1               amazing but the fandom isn't amazing       5  Negitive\n",
       "2                                          Very nice       5  Positive\n",
       "3                Give me gambling money (primo gems)       4    Nutral\n",
       "4  This is one my first Open World RPG games, and...       4    Nutral"
      ]
     },
     "execution_count": 4,
     "metadata": {},
     "output_type": "execute_result"
    }
   ],
   "source": [
    "#Creating column Sentiment of reviews using Sentiment_score user defined function\n",
    "Data['Sentiment']=Data['review'].apply(Sentiment_score)\n",
    "Data.head()"
   ]
  },
  {
   "cell_type": "code",
   "execution_count": 7,
   "id": "7b5c337f-2264-4d8c-873a-f5451c7146f0",
   "metadata": {},
   "outputs": [
    {
     "data": {
      "image/png": "[encoded data removed]",
      "text/plain": [
       "<Figure size 500x500 with 1 Axes>"
      ]
     },
     "metadata": {},
     "output_type": "display_data"
    }
   ],
   "source": [
    "# Count the occurrences of each sentiment\n",
    "sentiment_counts = Data['Sentiment'].value_counts()\n",
    "# Plotting the pie chart\n",
    "plt.figure(figsize=(5, 5))\n",
    "plt.pie(sentiment_counts, labels=sentiment_counts.index, autopct='%1.1f%%', startangle=140)\n",
    "plt.title('Sentiment Distribution')\n",
    "plt.axis('equal')  # Equal aspect ratio ensures that pie is drawn as a circle.\n",
    "\n",
    "# Display the pie chart\n",
    "plt.show()"
   ]
  }
 ],
 "metadata": {
  "kernelspec": {
   "display_name": "Python 3 (ipykernel)",
   "language": "python",
   "name": "python3"
  },
  "language_info": {
   "codemirror_mode": {
    "name": "ipython",
    "version": 3
   },
   "file_extension": ".py",
   "mimetype": "text/x-python",
   "name": "python",
   "nbconvert_exporter": "python",
   "pygments_lexer": "ipython3",
   "version": "3.11.7"
  }
 },
 "nbformat": 4,
 "nbformat_minor": 5
}
